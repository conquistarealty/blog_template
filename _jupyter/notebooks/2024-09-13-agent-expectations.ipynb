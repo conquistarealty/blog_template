{
 "cells": [
  {
   "cell_type": "raw",
   "id": "de5187f5-dc43-4768-9ba8-db5a78ef1204",
   "metadata": {},
   "source": [
    "---\n",
    "layout: article\n",
    "title: Agent Expectations\n",
    "custom_css: article.css\n",
    "include_mathjax: true\n",
    "---"
   ]
  },
  {
   "cell_type": "markdown",
   "id": "e9aa59fa-eeda-446a-aa44-62787e664a83",
   "metadata": {},
   "source": [
    "## Motivation\n",
    "The following article lays out the various *\"expectations\"* regarding our *professional relationship* with *real estate agents* (both **buyer** and **seller** agents). It is our goal, that this article will help to clarify what we expect from the *agents* we work with, and what *agents* can expect from us."
   ]
  },
  {
   "cell_type": "markdown",
   "id": "1e13c307-3f3b-4d88-8244-1e1118a91874",
   "metadata": {},
   "source": [
    "## Never Disrespect Our Time\n",
    "This is the **#1** rule: do not **ever** waste, trivialize, or disrespect our time. This is the oldest rule (often called the **golden rule**) in dealing with people:"
   ]
  },
  {
   "cell_type": "code",
   "execution_count": null,
   "id": "80ca064f-7e2e-4d93-8508-7f5291834d09",
   "metadata": {
    "editable": true,
    "execution": {
     "iopub.execute_input": "2024-09-14T18:53:14.518868Z",
     "iopub.status.busy": "2024-09-14T18:53:14.518427Z",
     "iopub.status.idle": "2024-09-14T18:53:14.530682Z",
     "shell.execute_reply": "2024-09-14T18:53:14.529425Z"
    },
    "slideshow": {
     "slide_type": ""
    },
    "tags": [
     "remove_input"
    ]
   },
   "outputs": [],
   "source": [
    "print(\"treat others how you want to be treated\")"
   ]
  },
  {
   "cell_type": "markdown",
   "id": "91a802e9-f1bc-467d-b067-7e0a480fad45",
   "metadata": {},
   "source": [
    "We will **never** waste your time. If we say we will do something, we will do it. If we agree to pay something, we will pay it. If at any point we feel that you do not appreciate/respect our time and energy, you will be gone: your employment will be immediately **terminated**."
   ]
  },
  {
   "cell_type": "markdown",
   "id": "d2e4e902-ef1f-4d46-adf7-a25727434b49",
   "metadata": {},
   "source": [
    "## Commission"
   ]
  },
  {
   "cell_type": "markdown",
   "id": "2bcaca83-dacc-4012-9bd8-aaac89d3618d",
   "metadata": {},
   "source": [
    "The average US housing price [according to Zillow](https://www.zillow.com/home-values/102001/united-states/) (technically the *median*) in *Q2* 2024 is $\\textdollar361,282$. The *\"range\"* of commissions (for both *buyer* and *seller* agents combined) is around $5\\%$ to $6\\%$ (see [Ownerly](https://www.ownerly.com/real-estate/average-commission-for-real-estate-agent/)) which for the *average US house* nets you:"
   ]
  },
  {
   "cell_type": "code",
   "execution_count": null,
   "id": "2ffd66ec-b93b-4993-945f-4599b573a5f5",
   "metadata": {
    "editable": true,
    "execution": {
     "iopub.execute_input": "2024-09-14T18:53:14.537436Z",
     "iopub.status.busy": "2024-09-14T18:53:14.536464Z",
     "iopub.status.idle": "2024-09-14T18:53:14.544559Z",
     "shell.execute_reply": "2024-09-14T18:53:14.543270Z"
    },
    "slideshow": {
     "slide_type": ""
    },
    "tags": [
     "remove_input"
    ]
   },
   "outputs": [],
   "source": [
    "# median US house price\n",
    "median_price = 361282\n",
    "\n",
    "# commission ranges\n",
    "commission_range = (0.05 * median_price, 0.06 * median_price)\n",
    "\n",
    "# now print\n",
    "print(f\"${commission_range[0]:,.0f} to ${commission_range[1]:,.0f}\")"
   ]
  },
  {
   "cell_type": "markdown",
   "id": "5f33e278-421b-405d-a672-46e90f738606",
   "metadata": {},
   "source": [
    "This of course (as you know) is typically split between both agents:"
   ]
  },
  {
   "cell_type": "code",
   "execution_count": null,
   "id": "73edf95a-e78e-45d5-bec9-d5c7ac87b3f1",
   "metadata": {
    "editable": true,
    "execution": {
     "iopub.execute_input": "2024-09-14T18:53:14.550342Z",
     "iopub.status.busy": "2024-09-14T18:53:14.549861Z",
     "iopub.status.idle": "2024-09-14T18:53:14.556730Z",
     "shell.execute_reply": "2024-09-14T18:53:14.555490Z"
    },
    "slideshow": {
     "slide_type": ""
    },
    "tags": [
     "remove_input"
    ]
   },
   "outputs": [],
   "source": [
    "# now print\n",
    "print(f\"${commission_range[0] / 2:,.0f} to ${commission_range[1] / 2:,.0f}\")"
   ]
  },
  {
   "cell_type": "markdown",
   "id": "5805690b-b273-4ba8-b9d6-0e823eb98eba",
   "metadata": {},
   "source": [
    "We have **no problem** paying you a **generous** commission, but make no mistake: **you will earn it**. And by *earn it* we mean you will provide a **reasonable quality** of service for the *agreed upon* commission. We do not expect a **ridiculous quality** level, just a *reasonable* one. We are willing to **work with you** to make sure that you are **fairly compensated** for your hard work, time, and commitment. But you must demonstrate that you are committed to *reciprocating* that same respect. Needless to say, if this is not reciprocated, or we sense some lack of commitment, you will be **terminated**."
   ]
  },
  {
   "cell_type": "markdown",
   "id": "f7e6db92-311b-4f25-b64c-410a5918a19c",
   "metadata": {},
   "source": [
    "## Know Your Place\n",
    "Before working together, we need to be on the same page on this topic: *you work for us*. You are being hired by us to *offer* a **service**. You are being paid a non-trivial amount of money by us, and hence **we** are your employer. While we always aim to *work with you* towards our mutual goal of *buying*/*selling* a property, do not forget that you are still our employee. If at any time you forget your place, or over step the **reasonable boundaries** that you as a *professional* should be very aware of you, your employ will be **terminated**."
   ]
  },
  {
   "cell_type": "markdown",
   "id": "03b14b74-861a-4554-b700-f0ea82c15035",
   "metadata": {},
   "source": [
    "## Listing Agreement\n",
    "Needless to say, we will reserve all our rights to sell whatever property in our possession to whomever and however we want. We will only accept **open listing agreements**. We will not even entertain any other option. Any attempt to persuade, cajole, or manipulate us to change our position in any way will lead to immediate cessation of all communication, and if employed will result in immediate **termination** from our employ."
   ]
  }
 ],
 "metadata": {
  "kernelspec": {
   "display_name": "Python 3 (ipykernel)",
   "language": "python",
   "name": "python3"
  },
  "language_info": {
   "codemirror_mode": {
    "name": "ipython",
    "version": 3
   },
   "file_extension": ".py",
   "mimetype": "text/x-python",
   "name": "python",
   "nbconvert_exporter": "python",
   "pygments_lexer": "ipython3",
   "version": "3.11.8"
  }
 },
 "nbformat": 4,
 "nbformat_minor": 5
}
