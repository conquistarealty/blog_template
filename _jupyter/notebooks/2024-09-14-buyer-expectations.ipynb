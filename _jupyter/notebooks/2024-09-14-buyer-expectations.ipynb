{
 "cells": [
  {
   "cell_type": "raw",
   "id": "aa5eb6bb-b660-4ad4-832b-8bed5600cdd8",
   "metadata": {},
   "source": [
    "---\n",
    "layout: article\n",
    "title: Buyer Expectations\n",
    "custom_css: article.css\n",
    "include_mathjax: true\n",
    "---"
   ]
  },
  {
   "cell_type": "markdown",
   "id": "d70c652b-7cce-402d-a8e6-658ff216659f",
   "metadata": {},
   "source": [
    "## Motivation\n",
    "The following article lays out the various *\"expectations\"* regarding our *professional relationship* with *potential buyers*. It is our goal, that this article will help to clarify what we expect from the *potential buyers* we work with, and what they can expect from us."
   ]
  },
  {
   "cell_type": "markdown",
   "id": "1cfb5eb2-7c39-4a87-b46a-938ca9b1550e",
   "metadata": {},
   "source": [
    "## Never Disrespect Our Time\n",
    "This is the **#1** rule: do not **ever** waste, trivialize, or disrespect our time. This is the oldest rule (often called the **golden rule**) in dealing with people:"
   ]
  },
  {
   "cell_type": "code",
   "execution_count": null,
   "id": "da7a6c0e-a714-48b3-96e9-5a0afe67ad19",
   "metadata": {
    "editable": true,
    "execution": {
     "iopub.execute_input": "2024-09-14T18:53:14.518868Z",
     "iopub.status.busy": "2024-09-14T18:53:14.518427Z",
     "iopub.status.idle": "2024-09-14T18:53:14.530682Z",
     "shell.execute_reply": "2024-09-14T18:53:14.529425Z"
    },
    "slideshow": {
     "slide_type": ""
    },
    "tags": [
     "remove_input"
    ]
   },
   "outputs": [],
   "source": [
    "print(\"treat others how you want to be treated\")"
   ]
  },
  {
   "cell_type": "markdown",
   "id": "e5d8d7f4-f96c-4f41-85e0-1980b51a207e",
   "metadata": {},
   "source": [
    "We will **never** waste your time. If we say we will do something, we will do it. If we agree to pay something, we will pay it. If at any point we feel that you do not appreciate/respect our time and energy, you will be gone: we will cease all present and future communication with you."
   ]
  },
  {
   "cell_type": "markdown",
   "id": "768e7e0a-6650-4297-8744-168b73632b21",
   "metadata": {},
   "source": [
    "## Fraudulent Application\n",
    "If at any time during the process of communicating with a *potential buyer*, we find evidence of *fraudulent* information, we will cease all further communications. We also **reserve all rights** to cease all communication if we suspect there is any attempt to commit fraud, regardless of explicit evidence."
   ]
  },
  {
   "cell_type": "markdown",
   "id": "6442abe4-8ef4-440d-969f-0596dc63f5ae",
   "metadata": {},
   "source": [
    "## Financial Qualification\n",
    "Before we can seriously consider investing **any time** into you as a *potential buyer* of our property, you will need to provide *sufficient evidence* to show that you can **reasonably afford** to purchase the property of interest. This requirement can be met in one of two ways:\n",
    "\n",
    "1. Proof of Funds (POF)\n",
    "2. Pre-Approval Letter\n",
    "\n",
    "For *option 1* you can provide *proof of funds* with one or more documents:\n",
    "\n",
    "+ **Bank Statements**: Recent bank statements (usually from the last 30 to 90 days) showing sufficient funds.\n",
    "+ **Letter from Financial Institution**: A formal letter from the bank or financial institution verifying the\n",
    "  availability of funds.\n",
    "+ **Investment Account Statements**: Statements from investment accounts (stocks, bonds, etc.) if the funds are in\n",
    "  such accounts.\n",
    "+ **Cash or Asset Verification**: Documentation if the funds are held in other forms, like certificates of deposit\n",
    "  (CDs) or physical assets.\n",
    "\n",
    "For *option 2* you simply need to submit a *mortgage application* for your *lender* of choice.\n",
    "\n",
    "If you do not meet this **minimum standard** of financial qualification, then we cannot engage with you until this qualification is met. If you manage to submit *evidence* supporting your *financial qualification* and it is determined to be fraudulent, then naturally we will also be unable to engage with you further, and depending on the severity of the fraud (and the degree of malicious intent), you may be subject to legal action."
   ]
  }
 ],
 "metadata": {
  "kernelspec": {
   "display_name": "Python 3 (ipykernel)",
   "language": "python",
   "name": "python3"
  },
  "language_info": {
   "codemirror_mode": {
    "name": "ipython",
    "version": 3
   },
   "file_extension": ".py",
   "mimetype": "text/x-python",
   "name": "python",
   "nbconvert_exporter": "python",
   "pygments_lexer": "ipython3",
   "version": "3.11.8"
  }
 },
 "nbformat": 4,
 "nbformat_minor": 5
}
